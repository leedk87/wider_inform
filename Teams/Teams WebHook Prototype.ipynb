{
 "cells": [
  {
   "cell_type": "markdown",
   "metadata": {},
   "source": [
    "# 팀즈 게시판 Bot 사용 기본 설정 사항\n",
    "\n",
    "1. Incoming WebHook 설치 (설치 방법: https://docs.microsoft.com/en-us/microsoftteams/platform/webhooks-and-connectors/how-to/add-incoming-webhook )\n",
    "2. Webhook Bot URL 얻기 (아래 url에 적용)"
   ]
  },
  {
   "cell_type": "code",
   "execution_count": 46,
   "metadata": {},
   "outputs": [],
   "source": [
    "import requests\n",
    "import json\n",
    "\n",
    "# Web Hook URL (Incoming WebHook에서 만들어준 게시물 Bot url)\n",
    "url = \"https://ibigtree.webhook.office.com/webhookb2/6e243643-8158-410e-971c-becfa2f1b69a@de8cccf3-b345-4b59-8f02-769d10cd910b/IncomingWebhook/4f2de78c896545c4910a4229b6513801/46f1825e-0b98-440c-9a87-9c79b4e09ef2\"\n",
    "\n",
    "# 헤더 정보\n",
    "header = {'Content-Type': 'application/json',}"
   ]
  },
  {
   "cell_type": "markdown",
   "metadata": {},
   "source": [
    "## 단순 텍스트 보낼때"
   ]
  },
  {
   "cell_type": "code",
   "execution_count": 57,
   "metadata": {},
   "outputs": [],
   "source": [
    "data = {\"text\": \"삼성전자, 갤럭시Z 폴드3·플립3 공식 출시... 10월까지 130여개국 확대[기사보기](https://www.etnews.com/20210827000023?mc=ns_002_00002)\"}"
   ]
  },
  {
   "cell_type": "markdown",
   "metadata": {},
   "source": [
    "## Adaptive Card 형식 사용 할 때\n",
    "* 상세 정보 : https://docs.microsoft.com/en-us/microsoftteams/platform/webhooks-and-connectors/how-to/connectors-using?tabs=cURL"
   ]
  },
  {
   "cell_type": "markdown",
   "metadata": {},
   "source": [
    "### 1. 단순 텍스트, 하이퍼링크 연결"
   ]
  },
  {
   "cell_type": "code",
   "execution_count": 67,
   "metadata": {},
   "outputs": [],
   "source": [
    "data = {\n",
    "   \"type\":\"message\",\n",
    "   \"attachments\":[\n",
    "      {\n",
    "         \"contentType\":\"application/vnd.microsoft.card.adaptive\",\n",
    "         \"contentUrl\":None,\n",
    "         \"content\":{\n",
    "            \"$schema\":\"http://adaptivecards.io/schemas/adaptive-card.json\",\n",
    "            \"type\":\"AdaptiveCard\",\n",
    "            \"version\":\"1.2\",\n",
    "            \"msteams\": {\n",
    "                \"width\": \"Full\"\n",
    "            },\n",
    "            \"body\":[\n",
    "                {\n",
    "                    \"type\": \"TextBlock\",\n",
    "                    # Text 작성 및 공유할 URL은 여기에 작성 '[]' 표시 text, '()' 하이퍼링크\n",
    "                    \"text\": \"[삼성전자, 갤럭시Z 폴드3·플립3 공식 출시... 10월까지 130여개국 확대](https://www.etnews.com/20210827000023?mc=ns_002_00002)\"\n",
    "                },\n",
    "                {\n",
    "                    \"type\": \"TextBlock\",\n",
    "                    \"text\": \"[Link](https://www.etnews.com/20210827000023?mc=ns_002_00002)\"\n",
    "                }\n",
    "            ]\n",
    "         }\n",
    "      }\n",
    "   ]\n",
    "}"
   ]
  },
  {
   "cell_type": "markdown",
   "metadata": {},
   "source": [
    "### 2. Thumnail 형식 (타이틀, 서브타이틀, 요약, 이미지, 링크 버튼)"
   ]
  },
  {
   "cell_type": "code",
   "execution_count": 78,
   "metadata": {},
   "outputs": [],
   "source": [
    "data = {\n",
    "    \"type\":\"message\",\n",
    "    \"attachments\":[\n",
    "        {\n",
    "           \"contentType\": \"application/vnd.microsoft.card.hero\",\n",
    "           \"content\": {\n",
    "             \"title\": \"삼성전자, 갤럭시Z 폴드3·플립3 공식 출시... 10월까지 130여개국 확대\",\n",
    "             \"subtitle\": \"2021.08.27\",\n",
    "             \"text\": \"삼성전자가 3세대 폴더블 스마트폰 갤럭시Z 폴드3와 갤럭시Z 플립3, 갤럭시워치4, 갤럭시버즈2를 27일 공식 출시했다. 대상 국가는 한국을 포함해 미국, 캐나다, 영국, 프랑스 등 약 40개국이다. 10월까지 130여개국에 신제품을 선보일 계획이다.\",\n",
    "             \"images\": [\n",
    "               {\n",
    "                 \"url\":\"https://img.etnews.com/photonews/2108/1447975_20210827094841_029_0001.jpg\"\n",
    "               }\n",
    "             ],\n",
    "            \"buttons\": [\n",
    "              {\n",
    "                 \"type\": \"openUrl\",\n",
    "                 \"title\": \"News Link\",\n",
    "                 \"value\": \"https://www.etnews.com/20210827000023?mc=ns_002_00002\"\n",
    "               },\n",
    "             ]\n",
    "           }\n",
    "        }\n",
    "    ]\n",
    "}"
   ]
  },
  {
   "cell_type": "markdown",
   "metadata": {},
   "source": [
    "## 지정한 게시판(url)에 데이터 전송\n",
    "Microsoft 정책에 따라 트랜잭션 Threshold가 있음.\n",
    "1. 1초에 최대 4번 가능\n",
    "2. 30초에 최대 60번 가능\n",
    "3. 3600초(1시간) 최대 100번 가능\n",
    "4. 7200초(2시간) 최대 150번 가능\n",
    "5. 86400 (24시간) 최대 1800번 가능\n",
    "\n",
    "상세설명 : https://docs.microsoft.com/en-us/microsoftteams/platform/webhooks-and-connectors/how-to/connectors-using?tabs=cURL\n",
    "Rate limiting for connectors 참조"
   ]
  },
  {
   "cell_type": "code",
   "execution_count": 79,
   "metadata": {
    "scrolled": true
   },
   "outputs": [
    {
     "data": {
      "text/plain": [
       "<Response [200]>"
      ]
     },
     "execution_count": 79,
     "metadata": {},
     "output_type": "execute_result"
    }
   ],
   "source": [
    "# 결과값 Response 200, 정상적으로 전송 \\\n",
    "requests.post(url, headers=header, data=json.dumps(data))"
   ]
  }
 ],
 "metadata": {
  "kernelspec": {
   "display_name": "Python 3",
   "language": "python",
   "name": "python3"
  },
  "language_info": {
   "codemirror_mode": {
    "name": "ipython",
    "version": 3
   },
   "file_extension": ".py",
   "mimetype": "text/x-python",
   "name": "python",
   "nbconvert_exporter": "python",
   "pygments_lexer": "ipython3",
   "version": "3.8.2"
  }
 },
 "nbformat": 4,
 "nbformat_minor": 4
}
